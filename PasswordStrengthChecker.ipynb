{
  "nbformat": 4,
  "nbformat_minor": 0,
  "metadata": {
    "colab": {
      "provenance": [],
      "authorship_tag": "ABX9TyNgJS8AzgwCZ46Yv/UwWPzK",
      "include_colab_link": true
    },
    "kernelspec": {
      "name": "python3",
      "display_name": "Python 3"
    },
    "language_info": {
      "name": "python"
    }
  },
  "cells": [
    {
      "cell_type": "markdown",
      "metadata": {
        "id": "view-in-github",
        "colab_type": "text"
      },
      "source": [
        "<a href=\"https://colab.research.google.com/github/MSreeVarshini/Password_Strength_Checker/blob/main/PasswordStrengthChecker.ipynb\" target=\"_parent\"><img src=\"https://colab.research.google.com/assets/colab-badge.svg\" alt=\"Open In Colab\"/></a>"
      ]
    },
    {
      "cell_type": "code",
      "execution_count": 3,
      "metadata": {
        "colab": {
          "base_uri": "https://localhost:8080/"
        },
        "id": "pJ5liSz8DHqV",
        "outputId": "2364ddf4-4a5a-407c-b501-5cf2b067866e"
      },
      "outputs": [
        {
          "metadata": {
            "tags": null
          },
          "name": "stdout",
          "output_type": "stream",
          "text": [
            "      password  strength\n",
            "0     kzde5577         1\n",
            "1     kino3434         1\n",
            "2    visi7k1yr         1\n",
            "3     megzy123         1\n",
            "4  lamborghin1         1\n"
          ]
        },
        {
          "metadata": {
            "tags": null
          },
          "name": "stderr",
          "output_type": "stream",
          "text": [
            "<ipython-input-3-0b945cf05943>:21: SettingWithCopyWarning: \n",
            "A value is trying to be set on a copy of a slice from a DataFrame.\n",
            "Try using .loc[row_indexer,col_indexer] = value instead\n",
            "\n",
            "See the caveats in the documentation: https://pandas.pydata.org/pandas-docs/stable/user_guide/indexing.html#returning-a-view-versus-a-copy\n",
            "  data[\"strength\"] = data[\"strength\"].map({0: \"Weak\", 1: \"Medium\", 2: \"Strong\"})\n"
          ]
        },
        {
          "output_type": "stream",
          "name": "stdout",
          "text": [
            "                password strength\n",
            "560020      yash_kothari   Medium\n",
            "389270         jessen123   Medium\n",
            "47306          lewipa736   Medium\n",
            "92455          5akrn6hpl   Medium\n",
            "526103          newpass1   Medium\n",
            "600653   982AkExozUmibON   Strong\n",
            "641955       plosokerep1   Medium\n",
            "95443   CCHQkHzc5OQbhtPb   Strong\n",
            "280359         362514spr   Medium\n",
            "573584        anjing45mr   Medium\n",
            "1.0\n",
            "Enter your password: ··········\n",
            "['Strong']\n"
          ]
        }
      ],
      "source": [
        "'''\n",
        "  Created by M. Sree Varshini\n",
        "\n",
        "'''\n",
        "\n",
        "\n",
        "# Importing the necessary Python libraries and the dataset that are required for password strength checker:\n",
        "\n",
        "import numpy as np\n",
        "import pandas as pd\n",
        "from sklearn.feature_extraction.text import TfidfVectorizer\n",
        "from sklearn.model_selection import train_test_split\n",
        "from sklearn.ensemble import RandomForestClassifier\n",
        "import getpass\n",
        "\n",
        "data = pd.read_csv(\"/PSC.csv\", on_bad_lines='skip')\n",
        "print(data.head())\n",
        "\n",
        "# Transforming integer strength of a password to verbal\n",
        "data = data.dropna()\n",
        "data[\"strength\"] = data[\"strength\"].map({0: \"Weak\", 1: \"Medium\", 2: \"Strong\"})\n",
        "\n",
        "\n",
        "print(data.sample(10))\n",
        "\n",
        "\n",
        "# Defining a machine learning model for Password Strength Prediction:\n",
        "def word(password):\n",
        "    character = []\n",
        "    for i in password:\n",
        "        character.append(i)\n",
        "    return character\n",
        "\n",
        "\n",
        "x = np.array(data[\"password\"])\n",
        "y = np.array(data[\"strength\"])\n",
        "tfid = TfidfVectorizer(tokenizer=word, token_pattern=None)\n",
        "x = tfid.fit_transform(x)\n",
        "x_train, x_test, y_train, y_test = train_test_split(x, y, test_size=20, random_state=42)\n",
        "\n",
        "model = RandomForestClassifier()\n",
        "model.fit(x_train, y_train)\n",
        "print(model.score(x_test, y_test))\n",
        "\n",
        "\n",
        "user = getpass.getpass(\"Enter your password: \")\n",
        "data = tfid.transform([user]).toarray()\n",
        "output = model.predict(data)\n",
        "print(output)\n"
      ]
    }
  ]
}